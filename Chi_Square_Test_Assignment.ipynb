{
 "cells": [
  {
   "cell_type": "markdown",
   "id": "3398e159",
   "metadata": {},
   "source": [
    "\n",
    "### Chi-Square Test of Independence\n",
    "\n",
    "#### 📌 Objective:\n",
    "To determine if there's a significant association between **device type** (Smart Thermostats vs. Smart Lights) and **customer satisfaction level**.\n",
    "\n",
    "#### 🧠 Hypotheses:\n",
    "- **Null Hypothesis (H₀):** Device type and customer satisfaction are independent.\n",
    "- **Alternative Hypothesis (H₁):** Device type and customer satisfaction are associated.\n"
   ]
  },
  {
   "cell_type": "code",
   "execution_count": null,
   "id": "7a963470",
   "metadata": {},
   "outputs": [],
   "source": [
    "\n",
    "import pandas as pd\n",
    "from scipy.stats import chi2_contingency, chi2\n",
    "\n",
    "# Observed data (contingency table)\n",
    "data = [[50, 70],\n",
    "        [80, 100],\n",
    "        [60, 90],\n",
    "        [30, 50],\n",
    "        [20, 50]]\n",
    "\n",
    "# Perform the Chi-Square test\n",
    "chi2_stat, p_val, dof, expected = chi2_contingency(data)\n",
    "\n",
    "# Critical value at alpha = 0.05\n",
    "alpha = 0.05\n",
    "critical_value = chi2.ppf(1 - alpha, dof)\n",
    "\n",
    "# Print results\n",
    "print(\"Chi-square Statistic:\", round(chi2_stat, 4))\n",
    "print(\"Degrees of Freedom:\", dof)\n",
    "print(\"Critical Value at 0.05 significance:\", round(critical_value, 4))\n",
    "print(\"P-value:\", round(p_val, 4))\n",
    "print(\"\\nExpected Frequencies:\\n\", pd.DataFrame(expected, columns=[\"Thermostat\", \"Light\"]))\n",
    "\n",
    "# Decision\n",
    "if chi2_stat > critical_value:\n",
    "    print(\"\\nConclusion: Reject the null hypothesis — There is a significant association.\")\n",
    "else:\n",
    "    print(\"\\nConclusion: Fail to reject the null — No significant association.\")\n"
   ]
  },
  {
   "cell_type": "markdown",
   "id": "bc724b0b",
   "metadata": {},
   "source": [
    "\n",
    "### 📌 Conclusion:\n",
    "Based on the Chi-square test, if the computed statistic exceeds the critical value, we reject the null hypothesis.  \n",
    "Otherwise, we conclude that the variables are independent.\n",
    "\n",
    "This analysis helps Mizzare Corporation understand if customer satisfaction depends on the type of device.\n"
   ]
  }
 ],
 "metadata": {},
 "nbformat": 4,
 "nbformat_minor": 5
}
