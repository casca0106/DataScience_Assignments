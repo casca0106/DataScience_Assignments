{
 "cells": [
  {
   "cell_type": "markdown",
   "id": "a65320d4",
   "metadata": {},
   "source": [
    "\n",
    "### 99% Confidence Interval Using Known Population Standard Deviation\n",
    "\n",
    "We are given:\n",
    "- A dataset of printhead lifetimes (in millions of characters).\n",
    "- Known population standard deviation: **σ = 0.2**\n",
    "- Confidence level: **99%**\n",
    "\n",
    "Since the population standard deviation is known, we will use the **Z-distribution** to compute the confidence interval.\n"
   ]
  },
  {
   "cell_type": "code",
   "execution_count": null,
   "id": "ec0903d5",
   "metadata": {},
   "outputs": [],
   "source": [
    "\n",
    "import numpy as np\n",
    "from scipy.stats import norm\n",
    "\n",
    "# Data\n",
    "printhead = [1.13, 1.55, 1.43, 0.92, 1.25, 1.36, 1.32, 0.85, 1.07, 1.48, 1.20, 1.33, 1.18, 1.22, 1.29]\n",
    "\n",
    "# Given values\n",
    "sigma = 0.2  # Known population standard deviation\n",
    "confidence = 0.99\n",
    "n = len(printhead)\n",
    "mean = np.mean(printhead)\n",
    "\n",
    "# Find Z value\n",
    "z_value = norm.ppf(1 - (1 - confidence)/2)\n",
    "\n",
    "# Margin of error\n",
    "margin_error = z_value * (sigma / np.sqrt(n))\n",
    "\n",
    "# Confidence Interval\n",
    "lower_bound = mean - margin_error\n",
    "upper_bound = mean + margin_error\n",
    "\n",
    "# Output\n",
    "print(f\"Sample Mean = {mean:.4f}\")\n",
    "print(f\"Z-value = {z_value:.4f}\")\n",
    "print(f\"Margin of Error = {margin_error:.4f}\")\n",
    "print(f\"99% Confidence Interval: ({lower_bound:.4f}, {upper_bound:.4f})\")\n"
   ]
  }
 ],
 "metadata": {},
 "nbformat": 4,
 "nbformat_minor": 5
}
